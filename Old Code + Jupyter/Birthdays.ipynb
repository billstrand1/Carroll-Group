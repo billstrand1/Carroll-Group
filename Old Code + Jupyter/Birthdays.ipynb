{
 "cells": [
  {
   "cell_type": "code",
   "execution_count": 1,
   "metadata": {},
   "outputs": [],
   "source": [
    "import datetime\n",
    "from players import *\n",
    "import re\n",
    "from tabulate import tabulate\n",
    "from operator import itemgetter"
   ]
  },
  {
   "cell_type": "code",
   "execution_count": 2,
   "metadata": {},
   "outputs": [],
   "source": [
    "tday = datetime.date.today()\n",
    "birthday_list = []\n",
    "for player in player_list:\n",
    "\tplayer_bday = (player.birthdate).strftime('%b %d')\n",
    "\tplayer_no_days = ((player.birthdate - tday).days)\n",
    "\tif player.signup_name == 'Rocky': player.age = '??'\n",
    "\tbirthday_info = [player.signup_name, player.age, player_bday, player_no_days]\n",
    "\tbirthday_list.append(birthday_info)"
   ]
  },
  {
   "cell_type": "code",
   "execution_count": 3,
   "metadata": {},
   "outputs": [],
   "source": [
    "b = sorted(birthday_list, key=itemgetter(3))\n",
    "headers = [\"\\nName\", \"Will\\nBe\", \"\\nOn\", \"In #\\nDays\"]\t\t\n",
    "column_print_alignment = list((\"right\",\"center\",\"center\",\"right\"))"
   ]
  },
  {
   "cell_type": "code",
   "execution_count": 4,
   "metadata": {},
   "outputs": [
    {
     "name": "stdout",
     "output_type": "stream",
     "text": [
      "As of March 14 2020: \n",
      "\n",
      "           Will             In #\n",
      "    Name    Be      On      Days\n",
      "--------  ------  ------  ------\n",
      "   Frank    74    May 12      59\n",
      "     Bob    69    Jun 10      88\n",
      "   Rocky    ??    Jun 10      88\n",
      "    Kent    68    Jul 03     111\n",
      "   Larry    71    Jul 04     112\n",
      " Bill B.    67    Jul 15     123\n",
      "   Trick    73    Aug 17     156\n",
      "    Hump    70    Aug 27     166\n",
      "    Doug    74    Sep 06     176\n",
      "    Jack    75    Sep 09     179\n",
      "    Will    68    Sep 11     181\n",
      "     Dan    73    Sep 23     193\n",
      "   Besse    77    Oct 07     207\n",
      "  Jim S.    74    Oct 15     215\n",
      " Bill S.    59    Oct 23     223\n",
      "    Curt    72    Nov 19     250\n",
      "Jimmy W.    80    Nov 19     250\n",
      "    Reid    72    Dec 14     275\n",
      "      Al    80    Dec 24     285\n"
     ]
    }
   ],
   "source": [
    "print(f\"As of {tday.strftime('%B %d %Y')}: \")\n",
    "print()\n",
    "print (tabulate(b, tablefmt='simple', colalign=column_print_alignment, headers=headers, floatfmt=\".1f\"))"
   ]
  },
  {
   "cell_type": "code",
   "execution_count": null,
   "metadata": {},
   "outputs": [],
   "source": []
  },
  {
   "cell_type": "code",
   "execution_count": null,
   "metadata": {},
   "outputs": [],
   "source": []
  }
 ],
 "metadata": {
  "kernelspec": {
   "display_name": "Python 3",
   "language": "python",
   "name": "python3"
  },
  "language_info": {
   "codemirror_mode": {
    "name": "ipython",
    "version": 3
   },
   "file_extension": ".py",
   "mimetype": "text/x-python",
   "name": "python",
   "nbconvert_exporter": "python",
   "pygments_lexer": "ipython3",
   "version": "3.7.3"
  }
 },
 "nbformat": 4,
 "nbformat_minor": 4
}
