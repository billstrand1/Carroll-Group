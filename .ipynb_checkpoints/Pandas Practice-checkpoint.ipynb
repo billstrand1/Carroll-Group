{
 "cells": [
  {
   "cell_type": "code",
   "execution_count": 21,
   "metadata": {},
   "outputs": [
    {
     "name": "stdout",
     "output_type": "stream",
     "text": [
      "Sheet Loaded\n"
     ]
    },
    {
     "data": {
      "text/plain": [
       "(22, 7)"
      ]
     },
     "execution_count": 21,
     "metadata": {},
     "output_type": "execute_result"
    }
   ],
   "source": [
    "import pandas as pd\n",
    "df = pd.read_excel('Handicap Index Course Handicap Report.xlsx', sheet_name='Sheet1')\n",
    "print('Sheet Loaded')\n",
    "# print(df.loc(['Golfer Name', 'H.I.']))\n",
    "df.shape"
   ]
  },
  {
   "cell_type": "code",
   "execution_count": 22,
   "metadata": {},
   "outputs": [
    {
     "data": {
      "text/plain": [
       "Index(['GHIN #', 'Last Name', 'Golfer Name', 'H.I.', 'White\\n(69.4/128)',\n",
       "       'Gold\\n(70.2/132)', 'Blue\\n(72.0/136)'],\n",
       "      dtype='object')"
      ]
     },
     "execution_count": 22,
     "metadata": {},
     "output_type": "execute_result"
    }
   ],
   "source": [
    "df.columns"
   ]
  },
  {
   "cell_type": "code",
   "execution_count": 23,
   "metadata": {},
   "outputs": [
    {
     "data": {
      "text/plain": [
       "0              Reid Baker\n",
       "1            Bill Barnard\n",
       "2          Rick Baumgarth\n",
       "3              Rick Besse\n",
       "4           Frank Broyles\n",
       "5            Jack Carroll\n",
       "6              Will Davis\n",
       "7             Rocky Duron\n",
       "8             Kent Fannon\n",
       "9         Curt Fitzgerald\n",
       "10              Bob Heard\n",
       "11       Richard Humphrey\n",
       "12               Jim Sido\n",
       "13            Dan Stewart\n",
       "14           Bill  Strand\n",
       "15            Larry Traub\n",
       "16                Al Vela\n",
       "17          Jimmy Wickham\n",
       "18          Doug Williams\n",
       "19                     19\n",
       "20                    NaN\n",
       "21    2020-03-17 03:01:01\n",
       "Name: Golfer Name, dtype: object"
      ]
     },
     "execution_count": 23,
     "metadata": {},
     "output_type": "execute_result"
    }
   ],
   "source": [
    "df['Golfer Name']"
   ]
  },
  {
   "cell_type": "code",
   "execution_count": 24,
   "metadata": {},
   "outputs": [
    {
     "data": {
      "text/html": [
       "<div>\n",
       "<style scoped>\n",
       "    .dataframe tbody tr th:only-of-type {\n",
       "        vertical-align: middle;\n",
       "    }\n",
       "\n",
       "    .dataframe tbody tr th {\n",
       "        vertical-align: top;\n",
       "    }\n",
       "\n",
       "    .dataframe thead th {\n",
       "        text-align: right;\n",
       "    }\n",
       "</style>\n",
       "<table border=\"1\" class=\"dataframe\">\n",
       "  <thead>\n",
       "    <tr style=\"text-align: right;\">\n",
       "      <th></th>\n",
       "      <th>Golfer Name</th>\n",
       "      <th>H.I.</th>\n",
       "    </tr>\n",
       "  </thead>\n",
       "  <tbody>\n",
       "    <tr>\n",
       "      <th>0</th>\n",
       "      <td>Reid Baker</td>\n",
       "      <td>11.4</td>\n",
       "    </tr>\n",
       "    <tr>\n",
       "      <th>1</th>\n",
       "      <td>Bill Barnard</td>\n",
       "      <td>16.5</td>\n",
       "    </tr>\n",
       "    <tr>\n",
       "      <th>2</th>\n",
       "      <td>Rick Baumgarth</td>\n",
       "      <td>11.4</td>\n",
       "    </tr>\n",
       "    <tr>\n",
       "      <th>3</th>\n",
       "      <td>Rick Besse</td>\n",
       "      <td>16.1</td>\n",
       "    </tr>\n",
       "    <tr>\n",
       "      <th>4</th>\n",
       "      <td>Frank Broyles</td>\n",
       "      <td>16.2</td>\n",
       "    </tr>\n",
       "    <tr>\n",
       "      <th>5</th>\n",
       "      <td>Jack Carroll</td>\n",
       "      <td>10.0</td>\n",
       "    </tr>\n",
       "    <tr>\n",
       "      <th>6</th>\n",
       "      <td>Will Davis</td>\n",
       "      <td>15.6</td>\n",
       "    </tr>\n",
       "    <tr>\n",
       "      <th>7</th>\n",
       "      <td>Rocky Duron</td>\n",
       "      <td>16.2</td>\n",
       "    </tr>\n",
       "    <tr>\n",
       "      <th>8</th>\n",
       "      <td>Kent Fannon</td>\n",
       "      <td>15.3</td>\n",
       "    </tr>\n",
       "    <tr>\n",
       "      <th>9</th>\n",
       "      <td>Curt Fitzgerald</td>\n",
       "      <td>18.2</td>\n",
       "    </tr>\n",
       "    <tr>\n",
       "      <th>10</th>\n",
       "      <td>Bob Heard</td>\n",
       "      <td>7.0</td>\n",
       "    </tr>\n",
       "    <tr>\n",
       "      <th>11</th>\n",
       "      <td>Richard Humphrey</td>\n",
       "      <td>17.6</td>\n",
       "    </tr>\n",
       "    <tr>\n",
       "      <th>12</th>\n",
       "      <td>Jim Sido</td>\n",
       "      <td>11.3</td>\n",
       "    </tr>\n",
       "    <tr>\n",
       "      <th>13</th>\n",
       "      <td>Dan Stewart</td>\n",
       "      <td>13.5</td>\n",
       "    </tr>\n",
       "    <tr>\n",
       "      <th>14</th>\n",
       "      <td>Bill  Strand</td>\n",
       "      <td>11.2</td>\n",
       "    </tr>\n",
       "    <tr>\n",
       "      <th>15</th>\n",
       "      <td>Larry Traub</td>\n",
       "      <td>8.9</td>\n",
       "    </tr>\n",
       "    <tr>\n",
       "      <th>16</th>\n",
       "      <td>Al Vela</td>\n",
       "      <td>19.5</td>\n",
       "    </tr>\n",
       "    <tr>\n",
       "      <th>17</th>\n",
       "      <td>Jimmy Wickham</td>\n",
       "      <td>14.5</td>\n",
       "    </tr>\n",
       "    <tr>\n",
       "      <th>18</th>\n",
       "      <td>Doug Williams</td>\n",
       "      <td>19.2</td>\n",
       "    </tr>\n",
       "  </tbody>\n",
       "</table>\n",
       "</div>"
      ],
      "text/plain": [
       "         Golfer Name  H.I.\n",
       "0         Reid Baker  11.4\n",
       "1       Bill Barnard  16.5\n",
       "2     Rick Baumgarth  11.4\n",
       "3         Rick Besse  16.1\n",
       "4      Frank Broyles  16.2\n",
       "5       Jack Carroll  10.0\n",
       "6         Will Davis  15.6\n",
       "7        Rocky Duron  16.2\n",
       "8        Kent Fannon  15.3\n",
       "9    Curt Fitzgerald  18.2\n",
       "10         Bob Heard   7.0\n",
       "11  Richard Humphrey  17.6\n",
       "12          Jim Sido  11.3\n",
       "13       Dan Stewart  13.5\n",
       "14      Bill  Strand  11.2\n",
       "15       Larry Traub   8.9\n",
       "16           Al Vela  19.5\n",
       "17     Jimmy Wickham  14.5\n",
       "18     Doug Williams  19.2"
      ]
     },
     "execution_count": 24,
     "metadata": {},
     "output_type": "execute_result"
    }
   ],
   "source": [
    "df.loc[0:18, 'Golfer Name':'H.I.']"
   ]
  },
  {
   "cell_type": "code",
   "execution_count": 25,
   "metadata": {},
   "outputs": [
    {
     "name": "stdout",
     "output_type": "stream",
     "text": [
      "         Golfer Name  H.I.\n",
      "0         Reid Baker  11.4\n",
      "1       Bill Barnard  16.5\n",
      "2     Rick Baumgarth  11.4\n",
      "3         Rick Besse  16.1\n",
      "4      Frank Broyles  16.2\n",
      "5       Jack Carroll  10.0\n",
      "6         Will Davis  15.6\n",
      "7        Rocky Duron  16.2\n",
      "8        Kent Fannon  15.3\n",
      "9    Curt Fitzgerald  18.2\n",
      "10         Bob Heard   7.0\n",
      "11  Richard Humphrey  17.6\n",
      "12          Jim Sido  11.3\n",
      "13       Dan Stewart  13.5\n",
      "14      Bill  Strand  11.2\n",
      "15       Larry Traub   8.9\n",
      "16           Al Vela  19.5\n",
      "17     Jimmy Wickham  14.5\n",
      "18     Doug Williams  19.2\n"
     ]
    }
   ],
   "source": [
    "info = df.loc[0:18, 'Golfer Name':'H.I.']\n",
    "print(info)"
   ]
  },
  {
   "cell_type": "code",
   "execution_count": 26,
   "metadata": {},
   "outputs": [
    {
     "name": "stdout",
     "output_type": "stream",
     "text": [
      "Reid Baker 11.4\n",
      "Bill Barnard 16.5\n",
      "Rick Baumgarth 11.4\n",
      "Rick Besse 16.1\n",
      "Frank Broyles 16.2\n",
      "Jack Carroll 10.0\n",
      "Will Davis 15.6\n",
      "Rocky Duron 16.2\n",
      "Kent Fannon 15.3\n",
      "Curt Fitzgerald 18.2\n",
      "Bob Heard 7.0\n",
      "Richard Humphrey 17.6\n",
      "Jim Sido 11.3\n",
      "Dan Stewart 13.5\n",
      "Bill  Strand 11.2\n",
      "Larry Traub 8.9\n",
      "Al Vela 19.5\n",
      "Jimmy Wickham 14.5\n",
      "Doug Williams 19.2\n",
      "19 nan\n",
      "nan nan\n",
      "2020-03-17 03:01:01 nan\n"
     ]
    }
   ],
   "source": [
    "\n",
    "for ind in df.index:\n",
    "    print(df['Golfer Name'][ind], df['H.I.'][ind]) "
   ]
  },
  {
   "cell_type": "code",
   "execution_count": 28,
   "metadata": {},
   "outputs": [
    {
     "name": "stdout",
     "output_type": "stream",
     "text": [
      "Reid Baker 11.4\n",
      "Bill Barnard 16.5\n",
      "Rick Baumgarth 11.4\n",
      "Rick Besse 16.1\n",
      "Frank Broyles 16.2\n",
      "Jack Carroll 10.0\n",
      "Will Davis 15.6\n",
      "Rocky Duron 16.2\n",
      "Kent Fannon 15.3\n",
      "Curt Fitzgerald 18.2\n",
      "Bob Heard 7.0\n",
      "Richard Humphrey 17.6\n",
      "Jim Sido 11.3\n",
      "Dan Stewart 13.5\n",
      "Bill  Strand 11.2\n",
      "Larry Traub 8.9\n",
      "Al Vela 19.5\n",
      "Jimmy Wickham 14.5\n",
      "Doug Williams 19.2\n"
     ]
    }
   ],
   "source": [
    "for ind in range(19):\n",
    "    \n",
    "    print(df['Golfer Name'][ind], df['H.I.'][ind]) "
   ]
  },
  {
   "cell_type": "code",
   "execution_count": 29,
   "metadata": {},
   "outputs": [
    {
     "name": "stdout",
     "output_type": "stream",
     "text": [
      "Golfer Name: Reid Baker, HI: 11.4\n",
      "Golfer Name: Bill Barnard, HI: 16.5\n",
      "Golfer Name: Rick Baumgarth, HI: 11.4\n",
      "Golfer Name: Rick Besse, HI: 16.1\n",
      "Golfer Name: Frank Broyles, HI: 16.2\n",
      "Golfer Name: Jack Carroll, HI: 10.0\n",
      "Golfer Name: Will Davis, HI: 15.6\n",
      "Golfer Name: Rocky Duron, HI: 16.2\n",
      "Golfer Name: Kent Fannon, HI: 15.3\n",
      "Golfer Name: Curt Fitzgerald, HI: 18.2\n",
      "Golfer Name: Bob Heard, HI: 7.0\n",
      "Golfer Name: Richard Humphrey, HI: 17.6\n",
      "Golfer Name: Jim Sido, HI: 11.3\n",
      "Golfer Name: Dan Stewart, HI: 13.5\n",
      "Golfer Name: Bill  Strand, HI: 11.2\n",
      "Golfer Name: Larry Traub, HI: 8.9\n",
      "Golfer Name: Al Vela, HI: 19.5\n",
      "Golfer Name: Jimmy Wickham, HI: 14.5\n",
      "Golfer Name: Doug Williams, HI: 19.2\n",
      "Golfer Name: 19, HI: nan\n",
      "Golfer Name: nan, HI: nan\n",
      "Golfer Name: 2020-03-17 03:01:01, HI: nan\n"
     ]
    }
   ],
   "source": [
    "for ind in range(19):\n",
    "    golfer_name = df['Golfer Name'][ind]\n",
    "    h_i = (float(df['H.I.'][ind]))\n",
    "    print(f\"Golfer Name: {golfer_name}, HI: {h_i}\")\n"
   ]
  },
  {
   "cell_type": "code",
   "execution_count": null,
   "metadata": {},
   "outputs": [],
   "source": []
  }
 ],
 "metadata": {
  "kernelspec": {
   "display_name": "Python 3",
   "language": "python",
   "name": "python3"
  },
  "language_info": {
   "codemirror_mode": {
    "name": "ipython",
    "version": 3
   },
   "file_extension": ".py",
   "mimetype": "text/x-python",
   "name": "python",
   "nbconvert_exporter": "python",
   "pygments_lexer": "ipython3",
   "version": "3.7.0"
  }
 },
 "nbformat": 4,
 "nbformat_minor": 4
}
