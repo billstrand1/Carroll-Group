{
 "cells": [
  {
   "cell_type": "code",
   "execution_count": 8,
   "metadata": {},
   "outputs": [],
   "source": [
    "import datetime\n",
    "from players import *\n",
    "import re\n",
    "from tabulate import tabulate\n",
    "from operator import itemgetter"
   ]
  },
  {
   "cell_type": "code",
   "execution_count": 9,
   "metadata": {},
   "outputs": [],
   "source": [
    "tday = datetime.date.today()\n",
    "birthday_list = []\n",
    "for player in player_list:\n",
    "\tplayer_bday = (player.birthdate).strftime('%b %d')\n",
    "\tplayer_no_days = ((player.birthdate - tday).days)\n",
    "\tif player.signup_name == 'Rocky': player.age = '??'\n",
    "\tbirthday_info = [player.signup_name, player.age, player_bday, player_no_days]\n",
    "\tbirthday_list.append(birthday_info)"
   ]
  },
  {
   "cell_type": "code",
   "execution_count": 10,
   "metadata": {},
   "outputs": [],
   "source": [
    "b = sorted(birthday_list, key=itemgetter(3))\n",
    "headers = [\"\\nName\", \"Will\\nBe\", \"\\nOn\", \"In #\\nDays\"]\t\t\n",
    "column_print_alignment = list((\"right\",\"center\",\"center\",\"right\"))"
   ]
  },
  {
   "cell_type": "code",
   "execution_count": 13,
   "metadata": {},
   "outputs": [
    {
     "name": "stdout",
     "output_type": "stream",
     "text": [
      "As of March 09 2020: \n",
      "\n",
      "           Will             In #\n",
      "    Name    Be      On      Days\n",
      "--------  ------  ------  ------\n",
      "   Frank    74    May 12      64\n",
      "     Bob    69    Jun 10      93\n",
      "   Rocky    ??    Jun 10      93\n",
      "    Kent    68    Jul 03     116\n",
      "   Larry    71    Jul 04     117\n",
      " Bill B.    67    Jul 15     128\n",
      "   Trick    73    Aug 17     161\n",
      "    Hump    70    Aug 27     171\n",
      "    Doug    74    Sep 06     181\n",
      "    Jack    75    Sep 09     184\n",
      "    Will    68    Sep 11     186\n",
      "     Dan    73    Sep 23     198\n",
      "   Besse    77    Oct 07     212\n",
      "  Jim S.    74    Oct 15     220\n",
      " Bill S.    59    Oct 23     228\n",
      "    Curt    72    Nov 19     255\n",
      "Jimmy W.    80    Nov 19     255\n",
      "    Reid    72    Dec 14     280\n",
      "      Al    80    Dec 24     290\n"
     ]
    }
   ],
   "source": [
    "print(f\"As of {tday.strftime('%B %d %Y')}: \")\n",
    "print()\n",
    "print (tabulate(b, tablefmt='simple', colalign=column_print_alignment, headers=headers, floatfmt=\".1f\"))"
   ]
  }
 ],
 "metadata": {
  "kernelspec": {
   "display_name": "Python 3",
   "language": "python",
   "name": "python3"
  },
  "language_info": {
   "codemirror_mode": {
    "name": "ipython",
    "version": 3
   },
   "file_extension": ".py",
   "mimetype": "text/x-python",
   "name": "python",
   "nbconvert_exporter": "python",
   "pygments_lexer": "ipython3",
   "version": "3.7.3"
  }
 },
 "nbformat": 4,
 "nbformat_minor": 4
}
